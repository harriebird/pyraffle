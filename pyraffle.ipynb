{
 "cells": [
  {
   "cell_type": "markdown",
   "id": "bf0a5edb-ca18-4791-94c5-e205482be0d1",
   "metadata": {},
   "source": [
    "# pyraffle\n",
    "\n",
    "Simple raffle script compatible with Luma downloaded guest file.\n",
    "\n",
    "Make sure to copy the downloaded guest file and name it `guests.csv` before running this notebook."
   ]
  },
  {
   "cell_type": "code",
   "execution_count": null,
   "id": "c2ab0358-f200-4311-88de-c5a3fa6fef67",
   "metadata": {},
   "outputs": [],
   "source": [
    "# Import necessary libraries\n",
    "from time import sleep\n",
    "from IPython.display import display, Markdown\n",
    "import numpy as np\n",
    "import pandas as pd\n",
    "from tqdm.notebook import trange, tqdm\n",
    "\n",
    "# If set to True, this removes the picked winner from the list\n",
    "POP_PICKED_WINNER = True\n",
    "\n",
    "# Removes the registration entries with no check in record\n",
    "ONLY_CHECKED_IN = False"
   ]
  },
  {
   "cell_type": "code",
   "execution_count": null,
   "id": "9335aec2-a1fd-42f2-ac69-1e2f57195831",
   "metadata": {},
   "outputs": [],
   "source": [
    "# Load the guests dataset\n",
    "\n",
    "guests_df = pd.read_csv(\"guests.csv\")"
   ]
  },
  {
   "cell_type": "code",
   "execution_count": null,
   "id": "ee8b3d1a-943c-4f5e-998a-5beb84c3ad8e",
   "metadata": {},
   "outputs": [],
   "source": [
    "# Select needed fields and clean the dataset\n",
    "\n",
    "guests_df = guests_df[[\"name\", \"email\", \"Status\", \"checked_in_at\"]]"
   ]
  },
  {
   "cell_type": "code",
   "execution_count": null,
   "id": "9067d4f2-b394-4abc-854a-e9fbe02e9002",
   "metadata": {},
   "outputs": [],
   "source": [
    "# Clean the dataset\n",
    "\n",
    "if ONLY_CHECKED_IN:\n",
    "    guests_df = guests_df.dropna(subset=\"checked_in_at\")\n",
    "\n",
    "cleaned_df = guests_df.drop_duplicates(subset=\"name\", keep=\"first\")\n",
    "\n",
    "cleaned_df.reset_index(drop=True, inplace=True)"
   ]
  },
  {
   "cell_type": "markdown",
   "id": "e611f37e-94df-40ac-942e-a2428186882d",
   "metadata": {},
   "source": [
    "## The actual raffle function"
   ]
  },
  {
   "cell_type": "code",
   "execution_count": null,
   "id": "7cd13f48-9582-42ec-bfe0-4cee42915bc8",
   "metadata": {},
   "outputs": [],
   "source": [
    "def raffle(df):\n",
    "    number = 0\n",
    "    for i in trange(20):\n",
    "        number = np.random.randint(len(df))\n",
    "        sleep(.1)\n",
    "    winner = df.iloc[number]\n",
    "    display(Markdown(f\"# **Congratulations {winner[\"name\"]}!**\\n{winner[\"email\"]}\"))\n",
    "\n",
    "    if POP_PICKED_WINNER:\n",
    "        new_df = df.drop(number)\n",
    "        \n",
    "    \n",
    "    return new_df"
   ]
  },
  {
   "attachments": {},
   "cell_type": "markdown",
   "id": "60ec1201-f3c8-483b-a4a9-7614702234d2",
   "metadata": {},
   "source": [
    "## First raffle"
   ]
  },
  {
   "cell_type": "code",
   "execution_count": null,
   "id": "ca1efeaa-384a-414c-9ea7-08273dc3707d",
   "metadata": {},
   "outputs": [],
   "source": [
    "cleaned_df = raffle(cleaned_df)"
   ]
  }
 ],
 "metadata": {
  "kernelspec": {
   "display_name": "Python 3 (ipykernel)",
   "language": "python",
   "name": "python3"
  },
  "language_info": {
   "codemirror_mode": {
    "name": "ipython",
    "version": 3
   },
   "file_extension": ".py",
   "mimetype": "text/x-python",
   "name": "python",
   "nbconvert_exporter": "python",
   "pygments_lexer": "ipython3",
   "version": "3.13.7"
  }
 },
 "nbformat": 4,
 "nbformat_minor": 5
}
