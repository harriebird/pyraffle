{
 "cells": [
  {
   "cell_type": "markdown",
   "id": "bf0a5edb-ca18-4791-94c5-e205482be0d1",
   "metadata": {},
   "source": [
    "# pyraffle\n",
    "\n",
    "Simple raffle script compatible with Luma downloaded guest file.\n",
    "\n",
    "Make sure to copy the downloaded guest file and name it `guests.csv` before running this notebook."
   ]
  },
  {
   "cell_type": "markdown",
   "id": "6bca8fe5-f06c-48af-bf96-cfd7b1593095",
   "metadata": {},
   "source": [
    "## Import the libraries and set configuration"
   ]
  },
  {
   "cell_type": "code",
   "execution_count": null,
   "id": "c2ab0358-f200-4311-88de-c5a3fa6fef67",
   "metadata": {},
   "outputs": [],
   "source": [
    "from time import sleep\n",
    "from IPython.display import display, Markdown\n",
    "import numpy as np\n",
    "import pandas as pd\n",
    "from tqdm.notebook import trange\n",
    "\n",
    "\n",
    "POP_PICKED_WINNER = True\n",
    "ONLY_CHECKED_IN = False"
   ]
  },
  {
   "cell_type": "markdown",
   "id": "1525cb8c-bac9-4b28-a5b3-3e7239b35ec2",
   "metadata": {},
   "source": [
    "## Load the guests dataset and initialize winner list"
   ]
  },
  {
   "cell_type": "code",
   "execution_count": null,
   "id": "9335aec2-a1fd-42f2-ac69-1e2f57195831",
   "metadata": {},
   "outputs": [],
   "source": [
    "guests_df = pd.read_csv(\"guests.csv\")\n",
    "winners_df = pd.DataFrame()"
   ]
  },
  {
   "cell_type": "markdown",
   "id": "37df949e-ace9-40ce-a1bf-028c3a8e9d23",
   "metadata": {},
   "source": [
    "## Clean the guest list and save it"
   ]
  },
  {
   "cell_type": "code",
   "execution_count": null,
   "id": "9067d4f2-b394-4abc-854a-e9fbe02e9002",
   "metadata": {},
   "outputs": [],
   "source": [
    "guests_df = guests_df[[\"name\", \"email\", \"checked_in_at\"]]\n",
    "\n",
    "if ONLY_CHECKED_IN:\n",
    "    guests_df = guests_df.dropna(subset=\"checked_in_at\")\n",
    "\n",
    "cleaned_df = guests_df.drop_duplicates(subset=\"name\", keep=\"first\")\n",
    "\n",
    "cleaned_df.loc[:, \"name\"] = cleaned_df[\"name\"].str.upper()\n",
    "\n",
    "cleaned_df = cleaned_df.sort_values(by=[\"name\"])\n",
    "cleaned_df.reset_index(drop=True, inplace=True)\n",
    "\n",
    "cleaned_df.to_csv(\"cleaned_guests.csv\", index=False)"
   ]
  },
  {
   "cell_type": "markdown",
   "id": "e611f37e-94df-40ac-942e-a2428186882d",
   "metadata": {},
   "source": [
    "## The actual raffle function"
   ]
  },
  {
   "cell_type": "code",
   "execution_count": null,
   "id": "7cd13f48-9582-42ec-bfe0-4cee42915bc8",
   "metadata": {},
   "outputs": [],
   "source": [
    "def raffle(df, prize=\"\"):\n",
    "\n",
    "    # Dismisses the raffle if the guest list is empty\n",
    "    if len(df) < 1:\n",
    "        display(Markdown(\"![Astonaut saying no](img/no-astronaut.png)\\n\"\n",
    "            \"# **Guest list empty! 🚫🚫🚫**\\nRaffle can't done with an empty guest list.\"))\n",
    "        return df\n",
    "    \n",
    "    global winners_df\n",
    "    number = -1\n",
    "\n",
    "    # Shuffle the list\n",
    "    df = df.sample(frac=1).reset_index(drop=True)\n",
    "\n",
    "    # Continuos random number genation for 5 seconds\n",
    "    for i in trange(50):\n",
    "        number = np.random.randint(len(df))\n",
    "        sleep(.1)\n",
    "\n",
    "    # Retrieves the raffle winner\n",
    "    winner = df.loc[[number]]\n",
    "\n",
    "    # Display a cute bear and announce the raffle winner\n",
    "    display(Markdown(\"![Cute winner bear](img/cute-winner-bear.png)\\n\"\n",
    "        f\"# **Congratulations {winner.loc[number][\"name\"].title()}! 🥳🥳🥳**\\n\"\n",
    "        f\"{ f\"## You won **{prize}**! 🎉🎉🎉\\n\" if prize else \"\" }\"\n",
    "        f\"<details><summary>Show Email</summary>Email: {winner.loc[number][\"email\"]}</details>\"))\n",
    "\n",
    "    # Add the prize column and its value if the prize value is not empty\n",
    "    if prize:\n",
    "        winner.insert(len(winner.loc[number]), \"prize\", [prize,], True)\n",
    "    \n",
    "    winners_df = pd.concat([winners_df, winner]).reset_index(drop=True)\n",
    "\n",
    "    # Removes the raffle winner from the list if POP_PICKED_WINNER is set to True\n",
    "    if POP_PICKED_WINNER:\n",
    "        df = df.drop(number)\n",
    "\n",
    "    # Sorts the guest list again\n",
    "    df = df.sort_values(by=[\"name\"])\n",
    "    df.reset_index(drop=True, inplace=True)\n",
    "    \n",
    "    return df"
   ]
  },
  {
   "attachments": {},
   "cell_type": "markdown",
   "id": "60ec1201-f3c8-483b-a4a9-7614702234d2",
   "metadata": {},
   "source": [
    "## Example raffle\n",
    "You can customize this to your liking. Replace the value of the `prize` variable to make it more specfic."
   ]
  },
  {
   "cell_type": "code",
   "execution_count": null,
   "id": "ca1efeaa-384a-414c-9ea7-08273dc3707d",
   "metadata": {},
   "outputs": [],
   "source": [
    "prize = \"Example\"\n",
    "\n",
    "cleaned_df = raffle(cleaned_df, prize)"
   ]
  },
  {
   "cell_type": "markdown",
   "id": "115c81ad-ac86-45a4-8db5-13f86884c8bf",
   "metadata": {},
   "source": [
    "## Save winners to CSV"
   ]
  },
  {
   "cell_type": "code",
   "execution_count": null,
   "id": "d8747316-ec43-48b1-a143-d6231ef0c766",
   "metadata": {},
   "outputs": [],
   "source": [
    "winners_df.to_csv(\"winners.csv\", index=False)"
   ]
  }
 ],
 "metadata": {
  "kernelspec": {
   "display_name": "Python 3 (ipykernel)",
   "language": "python",
   "name": "python3"
  },
  "language_info": {
   "codemirror_mode": {
    "name": "ipython",
    "version": 3
   },
   "file_extension": ".py",
   "mimetype": "text/x-python",
   "name": "python",
   "nbconvert_exporter": "python",
   "pygments_lexer": "ipython3",
   "version": "3.13.7"
  }
 },
 "nbformat": 4,
 "nbformat_minor": 5
}
