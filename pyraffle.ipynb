{
 "cells": [
  {
   "cell_type": "markdown",
   "id": "bf0a5edb-ca18-4791-94c5-e205482be0d1",
   "metadata": {},
   "source": [
    "# pyraffle"
   ]
  },
  {
   "cell_type": "code",
   "execution_count": null,
   "id": "c2ab0358-f200-4311-88de-c5a3fa6fef67",
   "metadata": {},
   "outputs": [],
   "source": []
  }
 ],
 "metadata": {
  "kernelspec": {
   "display_name": "Python 3 (ipykernel)",
   "language": "python",
   "name": "python3"
  },
  "language_info": {
   "codemirror_mode": {
    "name": "ipython",
    "version": 3
   },
   "file_extension": ".py",
   "mimetype": "text/x-python",
   "name": "python",
   "nbconvert_exporter": "python",
   "pygments_lexer": "ipython3",
   "version": "3.13.7"
  }
 },
 "nbformat": 4,
 "nbformat_minor": 5
}
